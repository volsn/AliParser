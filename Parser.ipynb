{
 "cells": [
  {
   "cell_type": "code",
   "execution_count": 1,
   "metadata": {},
   "outputs": [],
   "source": [
    "import requests\n",
    "from bs4 import BeautifulSoup\n",
    "from selenium import webdriver\n",
    "import json"
   ]
  },
  {
   "cell_type": "markdown",
   "metadata": {},
   "source": [
    "## getting list of products"
   ]
  },
  {
   "cell_type": "code",
   "execution_count": 2,
   "metadata": {},
   "outputs": [],
   "source": [
    "def get_products(url, pages=5):\n",
    "    \n",
    "    # Looking for products page\n",
    "    prds_link = url + '/page/offerlist.htm'\n",
    "    driver = webdriver.Firefox()\n",
    "\n",
    "    ids = set()   \n",
    "    for i in range(pages):\n",
    "        \n",
    "        prds_page = prds_link + '?pageNum=' + str(i)\n",
    "        driver.get(prds_page)\n",
    "        page = driver.page_source\n",
    "        soup = BeautifulSoup(page, 'html.parser')\n",
    "\n",
    "        prds = soup.find_all(attrs={'class':'offer-list-row-offer'})\n",
    "\n",
    "        for p in prds:\n",
    "            ids.add(p['data-offerid'])\n",
    "    \n",
    "    driver.close()\n",
    "    driver.quit()\n",
    "    return ids"
   ]
  },
  {
   "cell_type": "code",
   "execution_count": 4,
   "metadata": {},
   "outputs": [],
   "source": [
    "url = 'https://shop934899wt55923.1688.com'"
   ]
  },
  {
   "cell_type": "code",
   "execution_count": 63,
   "metadata": {},
   "outputs": [
    {
     "name": "stdout",
     "output_type": "stream",
     "text": [
      "{'565503532653', '582574059616', '585996499728', '565921082239', '585717265883', '566017573067', '566091022626', '566179163281', '575152039953', '569187016916', '589922080678', '573102375316', '585850238688', '585479245396', '587830298073', '565428089381', '587104053333', '565702953175', '586034411590', '565368924250', '565638027874', '565479858645', '576852113639', '565528881870', '589267401060', '585548980105', '565702681819', '579596430944', '568886687366', '589260879343', '588863734752', '590916719889', '589570415056', '585467715959', '589467741800', '571152751936', '565585035407', '587103289793'}\n"
     ]
    }
   ],
   "source": [
    "print(get_products(url))"
   ]
  },
  {
   "cell_type": "code",
   "execution_count": 3,
   "metadata": {},
   "outputs": [],
   "source": [
    "pages = {'565503532653', '582574059616', '585996499728', '565921082239', '585717265883', '566017573067', '566091022626', '566179163281', '575152039953', '569187016916', '589922080678', '573102375316', '585850238688', '585479245396', '587830298073', '565428089381', '587104053333', '565702953175', '586034411590', '565368924250', '565638027874', '565479858645', '576852113639', '565528881870', '589267401060', '585548980105', '565702681819', '579596430944', '568886687366', '589260879343', '588863734752', '590916719889', '589570415056', '585467715959', '589467741800', '571152751936', '565585035407', '587103289793'}"
   ]
  },
  {
   "cell_type": "markdown",
   "metadata": {},
   "source": [
    "## Extracting data about product"
   ]
  },
  {
   "cell_type": "code",
   "execution_count": 43,
   "metadata": {},
   "outputs": [],
   "source": [
    "def get_product_info(prd, percent=0.17):\n",
    "    \n",
    "    url = 'https://detail.1688.com/offer/'\n",
    "    prd_page = url + prd + '.html'\n",
    "    \n",
    "    driver = webdriver.Firefox()\n",
    "    driver.get(prd_page)\n",
    "    page = driver.page_source\n",
    "    soup = BeautifulSoup(page, 'html.parser')\n",
    "    driver.close()\n",
    "    driver.quit()\n",
    "    \n",
    "    # Getting prices and quantities\n",
    "    info = soup.find_all(attrs={'data-range': True})\n",
    "    prices = []\n",
    "    for s in info:\n",
    "        prices.append(json.loads(s['data-range']))\n",
    "    \n",
    "    # Getting available sizes\n",
    "    info = soup.find_all(attrs={'data-sku-config': True})\n",
    "    sizes = []\n",
    "    for s in info:\n",
    "        sizes.append(json.loads(s['data-sku-config']))\n",
    "        \n",
    "        \n",
    "    # Finding product specifications\n",
    "    info = soup.find_all(attrs={'class': 'unit-detail-spec-operator'})\n",
    "    specs = []\n",
    "    for p in info:\n",
    "        specs.append(json.loads(p['data-imgs'])['original'])\n",
    "    \n",
    "    # Finding photos\n",
    "    url = 'https://detail.1688.com/pic/'\n",
    "    photo_page = url + prd + '.html'\n",
    "    \n",
    "    driver = webdriver.Firefox()\n",
    "    driver.get(photo_page)\n",
    "    page = driver.page_source\n",
    "    soup = BeautifulSoup(page, 'html.parser')\n",
    "    driver.close()\n",
    "    driver.quit()\n",
    "    \n",
    "    info = soup.find_all(attrs={'data-img':True})\n",
    "    photos = []\n",
    "    for s in info:\n",
    "        photos.append(s['data-img'])\n",
    "        \n",
    "    \n",
    "    answer = {}\n",
    "    answer['id'] = prd\n",
    "    answer['prices'] = prices\n",
    "    answer['sizes'] = sizes\n",
    "    answer['photos'] = photos\n",
    "    answer['specs'] = specs\n",
    "    \n",
    "    \n",
    "    # Preparing answer for being saved in SQL\n",
    "    \n",
    "    ranges = []\n",
    "    for r in answer['prices']:\n",
    "        range_ = ''\n",
    "        if r['begin'] == '':\n",
    "            range_ += '>='\n",
    "        else:\n",
    "            range_ += r['begin']\n",
    "\n",
    "        if r['end'] == '':\n",
    "            range_ += '=<'\n",
    "        else:\n",
    "            range_ += '-' + r['end']\n",
    "\n",
    "        ranges.append((range_, float(r['price']) * (1 + percent)))\n",
    "    answer['prices'] = ranges\n",
    "    \n",
    "    sizes = []\n",
    "    for s in answer['sizes']:\n",
    "        sizes.append(s['skuName'])\n",
    "\n",
    "    answer['sizes'] = sizes\n",
    "    \n",
    "    return answer"
   ]
  },
  {
   "cell_type": "code",
   "execution_count": 44,
   "metadata": {
    "scrolled": true
   },
   "outputs": [
    {
     "name": "stdout",
     "output_type": "stream",
     "text": [
      "{'id': '565503532653', 'prices': [('2-9', 117.0), ('10-49', 111.14999999999999), ('50=<', 105.3)], 'sizes': ['S', 'M', 'L', 'XL', 'XXL'], 'photos': ['https://cbu01.alicdn.com/img/ibank/2018/835/790/8576097538_126174301.jpg', 'https://cbu01.alicdn.com/img/ibank/2018/989/150/8596051989_126174301.jpg', 'https://cbu01.alicdn.com/img/ibank/2018/244/690/8596096442_126174301.jpg', 'https://cbu01.alicdn.com/img/ibank/2018/859/191/8610191958_126174301.jpg', 'https://cbu01.alicdn.com/img/ibank/2018/852/721/8576127258_126174301.jpg'], 'specs': ['https://cbu01.alicdn.com/img/ibank/2018/244/690/8596096442_126174301.jpg', 'https://cbu01.alicdn.com/img/ibank/2018/989/150/8596051989_126174301.jpg', 'https://cbu01.alicdn.com/img/ibank/2018/835/790/8576097538_126174301.jpg']}\n"
     ]
    }
   ],
   "source": []
  },
  {
   "cell_type": "markdown",
   "metadata": {},
   "source": [
    "## Saving data in PDF"
   ]
  },
  {
   "cell_type": "code",
   "execution_count": 49,
   "metadata": {},
   "outputs": [],
   "source": [
    "from fpdf import FPDF\n",
    "import urllib.request"
   ]
  },
  {
   "cell_type": "code",
   "execution_count": null,
   "metadata": {},
   "outputs": [],
   "source": [
    "product = get_product_info('565503532653')"
   ]
  },
  {
   "cell_type": "code",
   "execution_count": 265,
   "metadata": {},
   "outputs": [],
   "source": [
    "# A4 size is 210 x 297\n",
    "\n",
    "def add_product(product, pdf):\n",
    "    \n",
    "    # Setting some parameters\n",
    "    price = product['prices'][0][1]\n",
    "    min_quantity = product['prices'][0][0].split('-')[0]\n",
    "    sizes = ''\n",
    "    for s in product['sizes']:\n",
    "        sizes += s + ' '\n",
    "\n",
    "    \n",
    "    # Putting images into PDF\n",
    "    name = 0\n",
    "    for spec in product['specs']:\n",
    "        \n",
    "        urllib.request.urlretrieve(spec, \"img/{}.jpg\".format(name))\n",
    "        pdf.image(\"img/{}.jpg\".format(name), x=10 + (60 * name), y=8, w=30)\n",
    "        \n",
    "        name += 1\n",
    "\n",
    "        \n",
    "    # Putting text description into PDF    \n",
    "    pdf.add_font('DejaVu', '', 'DejaVuSansCondensed.ttf', uni=True)\n",
    "    pdf.set_font('DejaVu', '', 8)\n",
    "    \n",
    "    articules = ''\n",
    "    name = 0\n",
    "    for spec in product['specs']:    \n",
    "        pdf.cell(w=25 + (60 * name))\n",
    "        text = 'Артикул {}/{}'.format(product['id'], name) + ' ' * 40 * name\n",
    "        pdf.cell(0, 5, text, name, ln=1)\n",
    "        name += 1\n",
    "    pdf.cell(0, ln=1)\n",
    "    \n",
    "    \n",
    "    \"\"\"\"\n",
    "    name = 0\n",
    "    for spec in product['specs']:\n",
    "        pdf.cell(w=25 + (60 * name))\n",
    "        text = 'Размеры: {} + '.format(sizes) + ' ' * 40 * name \n",
    "        pdf.cell(0, 5, text, ln=1)\n",
    "        name += 1\n",
    "        \n",
    "        \n",
    "        pdf.cell(w=25 + (60 * name))\n",
    "        pdf.cell(0, 5 - 5 * name, 'Мин заказ: {}'.format(min_quantity), ln=1)\n",
    "\n",
    "        pdf.set_font('DejaVu', '', 12)\n",
    "        pdf.cell(w=25 + (60 * name), h=0)\n",
    "        pdf.cell(0, 10 - 5 * name, 'Цена: {}'.format(price), ln=1)\n",
    "        \n",
    "    \"\"\"\n",
    "        \n",
    "        \n",
    "        #pdf.ln(20)\n",
    "\n",
    "        #pdf.cell(70, 40, ln=1)\n",
    "        \n",
    "        \n",
    "    pdf.output(\"add_image.pdf\")"
   ]
  },
  {
   "cell_type": "code",
   "execution_count": 266,
   "metadata": {},
   "outputs": [],
   "source": [
    "image_path = \"img/1.jpg\"\n",
    "pdf = FPDF()\n",
    "pdf.add_page()"
   ]
  },
  {
   "cell_type": "code",
   "execution_count": 267,
   "metadata": {},
   "outputs": [],
   "source": [
    "add_product(product, pdf)"
   ]
  },
  {
   "cell_type": "code",
   "execution_count": null,
   "metadata": {},
   "outputs": [],
   "source": []
  },
  {
   "cell_type": "code",
   "execution_count": null,
   "metadata": {},
   "outputs": [],
   "source": []
  },
  {
   "cell_type": "code",
   "execution_count": null,
   "metadata": {},
   "outputs": [],
   "source": []
  },
  {
   "cell_type": "markdown",
   "metadata": {},
   "source": [
    "# Testing new functions"
   ]
  },
  {
   "cell_type": "code",
   "execution_count": 17,
   "metadata": {},
   "outputs": [],
   "source": [
    "# Handling prices and sizes\n",
    "\n",
    "ranges = []\n",
    "for r in product['prices']:\n",
    "    range_ = ''\n",
    "    if r['begin'] == '':\n",
    "        range_ += '>='\n",
    "    else:\n",
    "        range_ += r['begin']\n",
    "    \n",
    "    if r['end'] == '':\n",
    "        range_ += '=<'\n",
    "    else:\n",
    "        range_ += '-' + r['end']\n",
    "        \n",
    "    ranges.append((range_, r['price']))\n",
    "    \n",
    "product['prices'] = ranges"
   ]
  },
  {
   "cell_type": "code",
   "execution_count": 24,
   "metadata": {
    "scrolled": false
   },
   "outputs": [],
   "source": [
    "# Handling sizes\n",
    "\n",
    "sizes = []\n",
    "for s in product['sizes']:\n",
    "    sizes.append(s['skuName'])\n",
    "\n",
    "product['sizes'] = sizes"
   ]
  },
  {
   "cell_type": "code",
   "execution_count": 26,
   "metadata": {
    "scrolled": true
   },
   "outputs": [
    {
     "data": {
      "text/plain": [
       "{'id': '565503532653',\n",
       " 'prices': [('2-9', '100.00'), ('10-49', '95.00'), ('50=<', '90.00')],\n",
       " 'sizes': ['S', 'M', 'L', 'XL', 'XXL'],\n",
       " 'photos': ['https://cbu01.alicdn.com/img/ibank/2018/835/790/8576097538_126174301.jpg',\n",
       "  'https://cbu01.alicdn.com/img/ibank/2018/989/150/8596051989_126174301.jpg',\n",
       "  'https://cbu01.alicdn.com/img/ibank/2018/244/690/8596096442_126174301.jpg',\n",
       "  'https://cbu01.alicdn.com/img/ibank/2018/859/191/8610191958_126174301.jpg',\n",
       "  'https://cbu01.alicdn.com/img/ibank/2018/852/721/8576127258_126174301.jpg']}"
      ]
     },
     "execution_count": 26,
     "metadata": {},
     "output_type": "execute_result"
    }
   ],
   "source": [
    "product"
   ]
  },
  {
   "cell_type": "code",
   "execution_count": null,
   "metadata": {},
   "outputs": [],
   "source": []
  },
  {
   "cell_type": "code",
   "execution_count": 27,
   "metadata": {},
   "outputs": [],
   "source": [
    "url = 'https://detail.1688.com/offer/'\n",
    "prd_page = url + '565503532653' + '.html'\n",
    "\n",
    "driver = webdriver.Firefox()\n",
    "driver.get(prd_page)\n",
    "page = driver.page_source\n",
    "soup = BeautifulSoup(page, 'html.parser')\n",
    "driver.close()\n",
    "driver.quit()"
   ]
  },
  {
   "cell_type": "code",
   "execution_count": 34,
   "metadata": {},
   "outputs": [],
   "source": []
  },
  {
   "cell_type": "code",
   "execution_count": 35,
   "metadata": {},
   "outputs": [
    {
     "data": {
      "text/plain": [
       "['https://cbu01.alicdn.com/img/ibank/2018/244/690/8596096442_126174301.jpg',\n",
       " 'https://cbu01.alicdn.com/img/ibank/2018/989/150/8596051989_126174301.jpg',\n",
       " 'https://cbu01.alicdn.com/img/ibank/2018/835/790/8576097538_126174301.jpg']"
      ]
     },
     "execution_count": 35,
     "metadata": {},
     "output_type": "execute_result"
    }
   ],
   "source": [
    "products"
   ]
  },
  {
   "cell_type": "code",
   "execution_count": null,
   "metadata": {},
   "outputs": [],
   "source": []
  },
  {
   "cell_type": "code",
   "execution_count": 67,
   "metadata": {},
   "outputs": [],
   "source": [
    "url = 'https://detail.1688.com/offer/'"
   ]
  },
  {
   "cell_type": "code",
   "execution_count": 129,
   "metadata": {},
   "outputs": [],
   "source": [
    "prd_page = url + '565921082239' + '.html'"
   ]
  },
  {
   "cell_type": "code",
   "execution_count": 152,
   "metadata": {},
   "outputs": [],
   "source": [
    "driver = webdriver.Firefox()\n",
    "driver.get(prd_page)\n",
    "page = driver.page_source\n",
    "soup = BeautifulSoup(page, 'html.parser')\n",
    "driver.close()\n",
    "driver.quit()"
   ]
  },
  {
   "cell_type": "code",
   "execution_count": 132,
   "metadata": {
    "scrolled": false
   },
   "outputs": [],
   "source": [
    "info = soup.find_all(attrs={'data-range': True})\n",
    "prices = []\n",
    "for s in info:\n",
    "    prices.append(json.loads(s['data-range']))"
   ]
  },
  {
   "cell_type": "code",
   "execution_count": 133,
   "metadata": {},
   "outputs": [],
   "source": [
    "info = soup.find_all(attrs={'data-sku-config': True})\n",
    "sizes = []\n",
    "for s in info:\n",
    "    sizes.append(json.loads(s['data-sku-config']))"
   ]
  },
  {
   "cell_type": "markdown",
   "metadata": {},
   "source": [
    "## Finding photos"
   ]
  },
  {
   "cell_type": "code",
   "execution_count": 135,
   "metadata": {},
   "outputs": [],
   "source": [
    "url = 'https://detail.1688.com/pic/'"
   ]
  },
  {
   "cell_type": "code",
   "execution_count": 136,
   "metadata": {},
   "outputs": [],
   "source": [
    "photo_page = url + '565921082239' + '.html'"
   ]
  },
  {
   "cell_type": "code",
   "execution_count": 137,
   "metadata": {},
   "outputs": [],
   "source": [
    "driver = webdriver.Firefox()\n",
    "driver.get(photo_page)\n",
    "page = driver.page_source\n",
    "soup = BeautifulSoup(page, 'html.parser')\n",
    "driver.close()\n",
    "driver.quit()"
   ]
  },
  {
   "cell_type": "code",
   "execution_count": 144,
   "metadata": {},
   "outputs": [],
   "source": [
    "photos = soup.find_all(attrs={'data-img':True})"
   ]
  },
  {
   "cell_type": "code",
   "execution_count": 148,
   "metadata": {},
   "outputs": [
    {
     "name": "stdout",
     "output_type": "stream",
     "text": [
      "https://cbu01.alicdn.com/img/ibank/2018/773/823/8591328377_126174301.jpg\n",
      "https://cbu01.alicdn.com/img/ibank/2018/445/114/8611411544_126174301.jpg\n",
      "https://cbu01.alicdn.com/img/ibank/2018/554/518/8625815455_126174301.jpg\n",
      "https://cbu01.alicdn.com/img/ibank/2018/479/977/8625779974_126174301.jpg\n",
      "https://cbu01.alicdn.com/img/ibank/2018/210/054/8611450012_126174301.jpg\n"
     ]
    }
   ],
   "source": [
    "for p in photos:\n",
    "    print(p['data-img'])"
   ]
  },
  {
   "cell_type": "code",
   "execution_count": null,
   "metadata": {},
   "outputs": [],
   "source": []
  }
 ],
 "metadata": {
  "kernelspec": {
   "display_name": "Python 3",
   "language": "python",
   "name": "python3"
  },
  "language_info": {
   "codemirror_mode": {
    "name": "ipython",
    "version": 3
   },
   "file_extension": ".py",
   "mimetype": "text/x-python",
   "name": "python",
   "nbconvert_exporter": "python",
   "pygments_lexer": "ipython3",
   "version": "3.7.1"
  }
 },
 "nbformat": 4,
 "nbformat_minor": 2
}
